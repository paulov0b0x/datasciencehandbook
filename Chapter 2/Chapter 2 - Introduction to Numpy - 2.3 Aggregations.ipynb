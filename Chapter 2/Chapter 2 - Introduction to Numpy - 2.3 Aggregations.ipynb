{
 "cells": [
  {
   "cell_type": "markdown",
   "id": "8941ff7d",
   "metadata": {},
   "source": [
    "### Aggregations: Min, Max, and Everything in Between"
   ]
  },
  {
   "cell_type": "markdown",
   "id": "1c5a85fb",
   "metadata": {},
   "source": [
    "#### Summing the Values in an Array"
   ]
  },
  {
   "cell_type": "code",
   "execution_count": 1,
   "id": "1ad4a2a0",
   "metadata": {},
   "outputs": [
    {
     "data": {
      "text/plain": [
       "52.99678359631443"
      ]
     },
     "execution_count": 1,
     "metadata": {},
     "output_type": "execute_result"
    }
   ],
   "source": [
    "import numpy as np\n",
    "\n",
    "L = np.random.random(100)\n",
    "sum(L)"
   ]
  },
  {
   "cell_type": "code",
   "execution_count": 2,
   "id": "26e00512",
   "metadata": {},
   "outputs": [
    {
     "data": {
      "text/plain": [
       "52.99678359631442"
      ]
     },
     "execution_count": 2,
     "metadata": {},
     "output_type": "execute_result"
    }
   ],
   "source": [
    "np.sum(L)"
   ]
  },
  {
   "cell_type": "code",
   "execution_count": 3,
   "id": "b1360515",
   "metadata": {},
   "outputs": [
    {
     "name": "stdout",
     "output_type": "stream",
     "text": [
      "121 ms ± 45.5 ms per loop (mean ± std. dev. of 7 runs, 10 loops each)\n",
      "1.43 ms ± 420 µs per loop (mean ± std. dev. of 7 runs, 100 loops each)\n"
     ]
    }
   ],
   "source": [
    "big_array = np.random.rand(1000000)\n",
    "%timeit sum(big_array)\n",
    "%timeit np.sum(big_array)"
   ]
  },
  {
   "cell_type": "markdown",
   "id": "1e9f6020",
   "metadata": {},
   "source": [
    "#### Minimum and Maximum"
   ]
  },
  {
   "cell_type": "code",
   "execution_count": 4,
   "id": "873244f3",
   "metadata": {},
   "outputs": [
    {
     "data": {
      "text/plain": [
       "(2.2831894118668927e-06, 0.9999987261849858)"
      ]
     },
     "execution_count": 4,
     "metadata": {},
     "output_type": "execute_result"
    }
   ],
   "source": [
    "min(big_array), max(big_array)"
   ]
  },
  {
   "cell_type": "code",
   "execution_count": 5,
   "id": "abbeebee",
   "metadata": {},
   "outputs": [
    {
     "data": {
      "text/plain": [
       "(2.2831894118668927e-06, 0.9999987261849858)"
      ]
     },
     "execution_count": 5,
     "metadata": {},
     "output_type": "execute_result"
    }
   ],
   "source": [
    "np.min(big_array), np.max(big_array)"
   ]
  },
  {
   "cell_type": "code",
   "execution_count": 6,
   "id": "6cd1f610",
   "metadata": {},
   "outputs": [
    {
     "name": "stdout",
     "output_type": "stream",
     "text": [
      "82.1 ms ± 29.9 ms per loop (mean ± std. dev. of 7 runs, 10 loops each)\n",
      "480 µs ± 19.4 µs per loop (mean ± std. dev. of 7 runs, 1000 loops each)\n"
     ]
    }
   ],
   "source": [
    "%timeit min(big_array)\n",
    "%timeit np.min(big_array)"
   ]
  },
  {
   "cell_type": "code",
   "execution_count": 7,
   "id": "a1f1b81e",
   "metadata": {},
   "outputs": [
    {
     "name": "stdout",
     "output_type": "stream",
     "text": [
      "2.2831894118668927e-06 0.9999987261849858 500148.19427065924\n"
     ]
    }
   ],
   "source": [
    "print(big_array.min(), big_array.max(), big_array.sum())"
   ]
  },
  {
   "cell_type": "markdown",
   "id": "5cf0bbfd",
   "metadata": {},
   "source": [
    "#### Multidimensional Aggregates"
   ]
  },
  {
   "cell_type": "code",
   "execution_count": 8,
   "id": "cb5a5ccd",
   "metadata": {},
   "outputs": [
    {
     "name": "stdout",
     "output_type": "stream",
     "text": [
      "[[0.24859586 0.31318951 0.87103872 0.23696136]\n",
      " [0.39102999 0.46842285 0.96473691 0.9587393 ]\n",
      " [0.95546009 0.56835123 0.00561517 0.8886802 ]]\n"
     ]
    }
   ],
   "source": [
    "M = np.random.random((3, 4))\n",
    "print(M)"
   ]
  },
  {
   "cell_type": "code",
   "execution_count": 9,
   "id": "18e2265c",
   "metadata": {},
   "outputs": [
    {
     "data": {
      "text/plain": [
       "6.870821196003728"
      ]
     },
     "execution_count": 9,
     "metadata": {},
     "output_type": "execute_result"
    }
   ],
   "source": [
    "M.sum()"
   ]
  },
  {
   "cell_type": "code",
   "execution_count": 10,
   "id": "3c5dfe67",
   "metadata": {},
   "outputs": [
    {
     "data": {
      "text/plain": [
       "array([0.24859586, 0.31318951, 0.00561517, 0.23696136])"
      ]
     },
     "execution_count": 10,
     "metadata": {},
     "output_type": "execute_result"
    }
   ],
   "source": [
    "M.min(axis=0)"
   ]
  },
  {
   "cell_type": "code",
   "execution_count": 11,
   "id": "ed7ccc9d",
   "metadata": {},
   "outputs": [
    {
     "data": {
      "text/plain": [
       "array([0.87103872, 0.96473691, 0.95546009])"
      ]
     },
     "execution_count": 11,
     "metadata": {},
     "output_type": "execute_result"
    }
   ],
   "source": [
    "M.max(axis=1)"
   ]
  },
  {
   "cell_type": "code",
   "execution_count": null,
   "id": "20fe6efa",
   "metadata": {},
   "outputs": [],
   "source": []
  }
 ],
 "metadata": {
  "kernelspec": {
   "display_name": "Python 3",
   "language": "python",
   "name": "python3"
  },
  "language_info": {
   "codemirror_mode": {
    "name": "ipython",
    "version": 3
   },
   "file_extension": ".py",
   "mimetype": "text/x-python",
   "name": "python",
   "nbconvert_exporter": "python",
   "pygments_lexer": "ipython3",
   "version": "3.8.8"
  }
 },
 "nbformat": 4,
 "nbformat_minor": 5
}
