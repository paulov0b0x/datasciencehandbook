{
 "cells": [
  {
   "cell_type": "markdown",
   "id": "cb6dd2a8",
   "metadata": {},
   "source": [
    "## Density and Contour Plots"
   ]
  },
  {
   "cell_type": "code",
   "execution_count": null,
   "id": "3b6dcc5b",
   "metadata": {},
   "outputs": [],
   "source": [
    "%matplotlib inline\n",
    "import matplotlib.pyplot as plt\n",
    "plt.style.use('seaborn-white')\n",
    "import numpy as np"
   ]
  },
  {
   "cell_type": "markdown",
   "id": "81180942",
   "metadata": {},
   "source": [
    "### Visualizing a Three-Dimensional Function"
   ]
  },
  {
   "cell_type": "code",
   "execution_count": null,
   "id": "5f091572",
   "metadata": {},
   "outputs": [],
   "source": [
    "def f(x, y):\n",
    "    return np.sin(x) ** 10 + np.cos(10 + y * x) * np.cos(x)"
   ]
  },
  {
   "cell_type": "code",
   "execution_count": null,
   "id": "ff3eb3af",
   "metadata": {},
   "outputs": [],
   "source": [
    "x = np.linspace(0, 5, 50)\n",
    "y = np.linspace(0, 5, 40)\n",
    "\n",
    "X, Y = np.meshgrid(x, y)\n",
    "Z = f(X, Y)"
   ]
  },
  {
   "cell_type": "code",
   "execution_count": null,
   "id": "8f423026",
   "metadata": {},
   "outputs": [],
   "source": [
    "plt.contour(X, Y, Z, colors='black')"
   ]
  },
  {
   "cell_type": "code",
   "execution_count": null,
   "id": "4df5d4ab",
   "metadata": {},
   "outputs": [],
   "source": [
    "plt.cm."
   ]
  },
  {
   "cell_type": "code",
   "execution_count": null,
   "id": "b8570466",
   "metadata": {},
   "outputs": [],
   "source": [
    "plt.contourf(X, Y, Z, 20, cmap='RdGy')\n",
    "plt.colorbar()"
   ]
  },
  {
   "cell_type": "code",
   "execution_count": null,
   "id": "3d3dbdda",
   "metadata": {},
   "outputs": [],
   "source": [
    "# Changing colour steps to continous rather than discrete using plt.imshow()"
   ]
  },
  {
   "cell_type": "code",
   "execution_count": null,
   "id": "752d9b5e",
   "metadata": {},
   "outputs": [],
   "source": [
    "plt.imshow(Z, extent=[0, 5, 0, 5], origin='lower',\n",
    "          cmap='RdGy')\n",
    "plt.colorbar()\n",
    "plt.axis(aspect='image')"
   ]
  },
  {
   "cell_type": "code",
   "execution_count": null,
   "id": "d2df8beb",
   "metadata": {},
   "outputs": [],
   "source": []
  }
 ],
 "metadata": {
  "kernelspec": {
   "display_name": "Python 3",
   "language": "python",
   "name": "python3"
  },
  "language_info": {
   "codemirror_mode": {
    "name": "ipython",
    "version": 3
   },
   "file_extension": ".py",
   "mimetype": "text/x-python",
   "name": "python",
   "nbconvert_exporter": "python",
   "pygments_lexer": "ipython3",
   "version": "3.9.4"
  }
 },
 "nbformat": 4,
 "nbformat_minor": 5
}
