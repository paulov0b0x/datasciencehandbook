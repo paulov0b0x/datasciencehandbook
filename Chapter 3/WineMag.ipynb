{
 "cells": [
  {
   "cell_type": "code",
   "execution_count": 41,
   "id": "0a2dbd91",
   "metadata": {},
   "outputs": [
    {
     "ename": "SyntaxError",
     "evalue": "invalid syntax (<ipython-input-41-42fb6e39aa38>, line 3)",
     "output_type": "error",
     "traceback": [
      "\u001b[1;36m  File \u001b[1;32m\"<ipython-input-41-42fb6e39aa38>\"\u001b[1;36m, line \u001b[1;32m3\u001b[0m\n\u001b[1;33m    import scikit-learn as sklearn\u001b[0m\n\u001b[1;37m                 ^\u001b[0m\n\u001b[1;31mSyntaxError\u001b[0m\u001b[1;31m:\u001b[0m invalid syntax\n"
     ]
    }
   ],
   "source": [
    "import pandas as pd\n",
    "\n",
    "wine_df = pd.read_csv('winemag-data_first150k.csv')\n",
    "wine_df"
   ]
  },
  {
   "cell_type": "code",
   "execution_count": 23,
   "id": "7e3a7f4d",
   "metadata": {},
   "outputs": [],
   "source": [
    "# Drop na values\n",
    "wine_df.dropna(inplace=True)"
   ]
  },
  {
   "cell_type": "code",
   "execution_count": null,
   "id": "2620298e",
   "metadata": {},
   "outputs": [],
   "source": [
    "wine_df.drop(columns=['Unnamed:\\n0', 'region_2'])"
   ]
  },
  {
   "cell_type": "code",
   "execution_count": null,
   "id": "548d2265",
   "metadata": {},
   "outputs": [],
   "source": [
    "wine_df.filter(columns=['price'])"
   ]
  }
 ],
 "metadata": {
  "kernelspec": {
   "display_name": "Python 3",
   "language": "python",
   "name": "python3"
  },
  "language_info": {
   "codemirror_mode": {
    "name": "ipython",
    "version": 3
   },
   "file_extension": ".py",
   "mimetype": "text/x-python",
   "name": "python",
   "nbconvert_exporter": "python",
   "pygments_lexer": "ipython3",
   "version": "3.9.4"
  }
 },
 "nbformat": 4,
 "nbformat_minor": 5
}
